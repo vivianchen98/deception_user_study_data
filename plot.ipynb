{
 "cells": [
  {
   "cell_type": "markdown",
   "metadata": {},
   "source": [
    "# Imports and Plotting functions\n",
    "Collapse the next cell if you wish"
   ]
  },
  {
   "cell_type": "code",
   "execution_count": 16,
   "metadata": {},
   "outputs": [],
   "source": [
    "import pandas as pd\n",
    "import numpy as np\n",
    "import matplotlib.pyplot as plt\n",
    "import seaborn as sns\n",
    "import math\n",
    "import ipywidgets as widgets\n",
    "\n",
    "def get_data_all(deception_informed, beta, measure, suffix=''):\n",
    "    # read pickle file\n",
    "    pred0_df = pd.read_pickle('results/{}_prediction_0_beta{}/data{}.pkl'.format(deception_informed, beta, suffix)).rename(columns={'{}_mean'.format(measure): 'prediction_0_{}_mean'.format(measure), '{}_std'.format(measure): 'prediction_0_{}_std'.format(measure)})[['step', 'prediction_0_{}_mean'.format(measure), 'prediction_0_{}_std'.format(measure)]]\n",
    "    pred1_df = pd.read_pickle('results/{}_prediction_1_beta{}/data{}.pkl'.format(deception_informed, beta, suffix)).rename(columns={'{}_mean'.format(measure): 'prediction_1_{}_mean'.format(measure), '{}_std'.format(measure): 'prediction_1_{}_std'.format(measure)})[['prediction_1_{}_mean'.format(measure), 'prediction_1_{}_std'.format(measure)]]\n",
    "    ambiguity_df = pd.read_pickle('results/{}_ambiguity_beta{}/data{}.pkl'.format(deception_informed, beta, suffix)).rename(columns={'{}_mean'.format(measure): 'ambiguity_{}_mean'.format(measure), '{}_std'.format(measure): 'ambiguity_{}_std'.format(measure)})[['ambiguity_{}_mean'.format(measure), 'ambiguity_{}_std'.format(measure)]]\n",
    "    exaggeration_df = pd.read_pickle('results/{}_exaggeration_beta{}/data{}.pkl'.format(deception_informed, beta, suffix)).rename(columns={'{}_mean'.format(measure): 'exaggeration_{}_mean'.format(measure), '{}_std'.format(measure): 'exaggeration_{}_std'.format(measure)})[['exaggeration_{}_mean'.format(measure), 'exaggeration_{}_std'.format(measure)]]\n",
    "    to_plot = pd.concat([pred0_df, pred1_df, ambiguity_df, exaggeration_df], axis=1)\n",
    "\n",
    "    return to_plot\n",
    "\n",
    "def pooled_std(stds, sizes):\n",
    "    numerator = sum((n - 1) * s ** 2 for s, n in zip(stds, sizes))\n",
    "    denominator = sum(sizes) - len(sizes)\n",
    "    if denominator <= 0:\n",
    "        raise ValueError(\"Invalid sample sizes; the denominator becomes non-positive.\")\n",
    "    return math.sqrt(numerator / denominator)\n",
    "\n",
    "def plot_bars_on_ax(ax, to_plot, flag, beta, measure, manipulated=['prediction_0', 'prediction_1', 'ambiguity', 'exaggeration'], total_num_participants=316):\n",
    "    # Get the current Seaborn color palette (default is 'deep')\n",
    "    colors = sns.color_palette(\"deep\", 4)\n",
    "\n",
    "    # Width of a bar \n",
    "    width = 0.2       \n",
    "\n",
    "    # Position of bars on x axis\n",
    "    r1 = np.arange(len(to_plot))\n",
    "    r2 = [x + width for x in r1]\n",
    "    r3 = [x + width for x in r2]\n",
    "    r4 = [x + width for x in r3]\n",
    "    r_list = [r1, r2, r3, r4]\n",
    "\n",
    "    # Creating bars\n",
    "    if ('prediction_0' in manipulated):\n",
    "        ind = manipulated.index('prediction_0')\n",
    "        r1_mean = \"{:.3f}\".format(to_plot['prediction_0_{}_mean'.format(measure)].mean())\n",
    "        r1_pooled_std = \"{:.3f}\".format(pooled_std(to_plot['prediction_0_{}_std'.format(measure)], [total_num_participants]*len(to_plot)))\n",
    "        ax.bar(r_list[ind], to_plot['prediction_0_{}_mean'.format(measure)], width=width, yerr=to_plot['prediction_0_{}_std'.format(measure)], capsize=4, label='prediction 0 (g2+g3): (mm:{}, p_std:{})'.format(r1_mean, r1_pooled_std), color=colors[ind])\n",
    "    if ('prediction_1' in manipulated):\n",
    "        ind = manipulated.index('prediction_1')\n",
    "        r2_mean = \"{:.3f}\".format(to_plot['prediction_1_{}_mean'.format(measure)].mean())\n",
    "        r2_pooled_std = \"{:.3f}\".format(pooled_std(to_plot['prediction_1_{}_std'.format(measure)], [total_num_participants]*len(to_plot)))\n",
    "        ax.bar(r_list[ind], to_plot['prediction_1_{}_mean'.format(measure)], width=width, yerr=to_plot['prediction_1_{}_std'.format(measure)], capsize=4, label='prediction 1 (g1+g2): (mm:{}, p_std:{})'.format(r2_mean, r2_pooled_std), color=colors[ind])\n",
    "    if ('ambiguity' in manipulated):\n",
    "        ind = manipulated.index('ambiguity')\n",
    "        r3_mean = \"{:.3f}\".format(to_plot['ambiguity_{}_mean'.format(measure)].mean())\n",
    "        r3_pooled_std = \"{:.3f}\".format(pooled_std(to_plot['ambiguity_{}_std'.format(measure)], [total_num_participants]*len(to_plot)))\n",
    "        ax.bar(r_list[ind], to_plot['ambiguity_{}_mean'.format(measure)], width=width, yerr=to_plot['ambiguity_{}_std'.format(measure)], capsize=4, label='ambiguity: (mm:{}, p_std:{})'.format(r3_mean, r3_pooled_std), color=colors[ind])\n",
    "    if ('exaggeration' in manipulated):\n",
    "        ind = manipulated.index('exaggeration')\n",
    "        r4_mean = \"{:.3f}\".format(to_plot['exaggeration_{}_mean'.format(measure)].mean())\n",
    "        r4_pooled_std = \"{:.3f}\".format(pooled_std(to_plot['exaggeration_{}_std'.format(measure)], [total_num_participants]*len(to_plot)))\n",
    "        ax.bar(r_list[ind], to_plot['exaggeration_{}_mean'.format(measure)], width=width, yerr=to_plot['exaggeration_{}_std'.format(measure)], capsize=4, label='exaggeration: (mm:{}, p_std:{})'.format(r4_mean, r4_pooled_std), color=colors[ind])\n",
    "\n",
    "    # Adding xticks\n",
    "    ax.set_xticks([r + width for r in range(len(to_plot))])\n",
    "    ax.set_xticklabels(to_plot['step'])\n",
    "\n",
    "    ax.set_title('{}_{}_{}'.format(flag, beta, measure))\n",
    "    ax.legend(loc='upper left', bbox_to_anchor=(1, 1))\n",
    "\n",
    "def plot_lines_on_ax(ax, to_plot, flag, beta, measure, manipulated=['prediction_0', 'prediction_1', 'ambiguity', 'exaggeration'], total_num_participants=316):\n",
    "    # Get the current Seaborn color palette (default is 'deep')\n",
    "    colors = sns.color_palette(\"deep\", 4)\n",
    "\n",
    "    # Creating bars\n",
    "    if ('prediction_0' in manipulated):\n",
    "        ind = manipulated.index('prediction_0')\n",
    "        r1_mean = \"{:.3f}\".format(to_plot['prediction_0_{}_mean'.format(measure)].mean())\n",
    "        r1_pooled_std = \"{:.3f}\".format(pooled_std(to_plot['prediction_0_{}_std'.format(measure)], [total_num_participants]*len(to_plot)))\n",
    "        ax.plot(to_plot['step'], to_plot['prediction_0_{}_mean'.format(measure)], marker = 'o', label='prediction 0 (g2+g3): (mm:{}, p_std:{})'.format(r1_mean, r1_pooled_std), color=colors[ind])\n",
    "        plt.fill_between(to_plot['step'], to_plot['prediction_0_{}_mean'.format(measure)] - to_plot['prediction_0_{}_std'.format(measure)], to_plot['prediction_0_{}_mean'.format(measure)] + to_plot['prediction_0_{}_std'.format(measure)], color=colors[ind], alpha=0.15)\n",
    "    if ('prediction_1' in manipulated):\n",
    "        ind = manipulated.index('prediction_1')\n",
    "        r2_mean = \"{:.3f}\".format(to_plot['prediction_1_{}_mean'.format(measure)].mean())\n",
    "        r2_pooled_std = \"{:.3f}\".format(pooled_std(to_plot['prediction_1_{}_std'.format(measure)], [total_num_participants]*len(to_plot)))\n",
    "        ax.plot(to_plot['step'], to_plot['prediction_1_{}_mean'.format(measure)], marker = 's', label='prediction 1 (g1+g2): (mm:{}, p_std:{})'.format(r2_mean, r2_pooled_std), color=colors[ind])\n",
    "        plt.fill_between(to_plot['step'], to_plot['prediction_1_{}_mean'.format(measure)] - to_plot['prediction_1_{}_std'.format(measure)], to_plot['prediction_1_{}_mean'.format(measure)] + to_plot['prediction_1_{}_std'.format(measure)], color=colors[ind], alpha=0.15)\n",
    "    if ('ambiguity' in manipulated):\n",
    "        ind = manipulated.index('ambiguity')\n",
    "        r3_mean = \"{:.3f}\".format(to_plot['ambiguity_{}_mean'.format(measure)].mean())\n",
    "        r3_pooled_std = \"{:.3f}\".format(pooled_std(to_plot['ambiguity_{}_std'.format(measure)], [total_num_participants]*len(to_plot)))\n",
    "        ax.plot(to_plot['step'], to_plot['ambiguity_{}_mean'.format(measure)], marker = '^', label='ambiguity: (mm:{}, p_std:{})'.format(r3_mean, r3_pooled_std), color=colors[ind])\n",
    "        plt.fill_between(to_plot['step'], to_plot['ambiguity_{}_mean'.format(measure)] - to_plot['ambiguity_{}_std'.format(measure)], to_plot['ambiguity_{}_mean'.format(measure)] + to_plot['ambiguity_{}_std'.format(measure)], color=colors[ind], alpha=0.15)\n",
    "    if ('exaggeration' in manipulated):\n",
    "        ind = manipulated.index('exaggeration')\n",
    "        r4_mean = \"{:.3f}\".format(to_plot['exaggeration_{}_mean'.format(measure)].mean())\n",
    "        r4_pooled_std = \"{:.3f}\".format(pooled_std(to_plot['exaggeration_{}_std'.format(measure)], [total_num_participants]*len(to_plot)))\n",
    "        ax.plot(to_plot['step'], to_plot['exaggeration_{}_mean'.format(measure)], marker = '*', label='exaggeration: (mm:{}, p_std:{})'.format(r4_mean, r4_pooled_std), color=colors[ind])\n",
    "        plt.fill_between(to_plot['step'], to_plot['exaggeration_{}_mean'.format(measure)] - to_plot['exaggeration_{}_std'.format(measure)], to_plot['exaggeration_{}_mean'.format(measure)] + to_plot['exaggeration_{}_std'.format(measure)], color=colors[ind], alpha=0.15)\n",
    "\n",
    "    ax.set_title('{}_{}_{}'.format(flag, beta, measure))\n",
    "    ax.legend(loc='upper left', bbox_to_anchor=(1, 1))\n",
    "\n",
    "def plot_data(flag, beta, measure, manipulated, plot_type='lines'):\n",
    "    fig, ax = plt.subplots(figsize=(10, 4))\n",
    "    if plot_type == 'bars':\n",
    "        plot_bars_on_ax(ax, get_data_all(flag, beta, measure), flag, beta, measure, manipulated)\n",
    "    elif plot_type == 'lines':\n",
    "        plot_lines_on_ax(ax, get_data_all(flag, beta, measure), flag, beta, measure, manipulated)\n",
    "    plt.tight_layout()\n",
    "    plt.show()"
   ]
  },
  {
   "cell_type": "markdown",
   "metadata": {},
   "source": [
    "# Interactive Plots\n",
    "Collapse the next cell if you wish"
   ]
  },
  {
   "cell_type": "code",
   "execution_count": 17,
   "metadata": {},
   "outputs": [
    {
     "name": "stdout",
     "output_type": "stream",
     "text": [
      "To multi-select policy types, hold down the Ctrl key on Windows or the Command key on Mac.\n"
     ]
    },
    {
     "data": {
      "application/vnd.jupyter.widget-view+json": {
       "model_id": "c77a5385988e4960b5ec0148e6e25649",
       "version_major": 2,
       "version_minor": 0
      },
      "text/plain": [
       "interactive(children=(Dropdown(description='Group:', options=('YES', 'NO'), value='YES'), Dropdown(description…"
      ]
     },
     "execution_count": 17,
     "metadata": {},
     "output_type": "execute_result"
    }
   ],
   "source": [
    "# Define the dropdown options for each category\n",
    "flag_options = ['YES', 'NO']\n",
    "beta_options = ['1.5', '6']\n",
    "measure_options = ['scores', 'correctness', 'confidence', 'goal_selection', 'confidence_reaction']\n",
    "\n",
    "# Create the dropdown widgets\n",
    "flag_dropdown = widgets.Dropdown(options=flag_options, description='Group:')\n",
    "beta_dropdown = widgets.Dropdown(options=beta_options, description='Beta:')\n",
    "measure_dropdown = widgets.Dropdown(options=measure_options, description='Measure:')\n",
    "policy_type_checkbox = widgets.SelectMultiple(options=['prediction_0', 'prediction_1', 'ambiguity', 'exaggeration'], value=['prediction_0', 'prediction_1', 'ambiguity', 'exaggeration'], description='Policy types:')\n",
    "plot_type_radio = widgets.RadioButtons(options=['bars', 'lines'], value='lines', description='Plot type:')\n",
    "\n",
    "print('To multi-select policy types, hold down the Ctrl key on Windows or the Command key on Mac.')\n",
    "widgets.interactive(plot_data, flag=flag_dropdown, beta=beta_dropdown, measure=measure_dropdown, manipulated=policy_type_checkbox, plot_type=plot_type_radio)"
   ]
  }
 ],
 "metadata": {
  "kernelspec": {
   "display_name": "Python 3",
   "language": "python",
   "name": "python3"
  },
  "language_info": {
   "codemirror_mode": {
    "name": "ipython",
    "version": 3
   },
   "file_extension": ".py",
   "mimetype": "text/x-python",
   "name": "python",
   "nbconvert_exporter": "python",
   "pygments_lexer": "ipython3",
   "version": "3.9.18"
  },
  "orig_nbformat": 4
 },
 "nbformat": 4,
 "nbformat_minor": 2
}
